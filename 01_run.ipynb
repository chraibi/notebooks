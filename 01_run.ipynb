{
 "cells": [
  {
   "cell_type": "markdown",
   "metadata": {},
   "source": [
    "## JuPedSim\n",
    "\n",
    "In diesem Tutorial wird eine Simulation mit `jpscore` in einem einfachen Setup durchgeführt. \n",
    "\n",
    "Eine Dokumentation der verwendeten Dateien ist unter:\n",
    "\n",
    "- Die Trajektorie-Datei (txt oder xml) (siehe [Dokumentation](http://www.jupedsim.org/jpscore/jpscore_trajectory.html))\n",
    "- Die Geometriedatei (siehe [Dokumentation](http://www.jupedsim.org/jpscore/jpscore_geometry.html)) \n",
    "- Die Projektdatei von jpscore, genannt inifile (siehe [Dokumentation](http://www.jupedsim.org/jpscore/jpscore_inifile.html))\n",
    "\n",
    "\n",
    "## Wie benutze ich ein Jupyter-Notebook\n",
    "\n",
    "Dieser `Jupyter-Notebook` besteht aus verschiedennen Zellen (Cells). \n",
    "\n",
    "Sie können alle Zellen ausführen indem Sie in dem Menü `Run --> Run All Cells` auswählen.\n",
    "\n",
    "Alternative, können Sie einzelne Zellen ausführen, indem Sie auf die entsprechende Zelle klicken und `Run --> Run Selected Cells` auswählen. \n",
    "\n",
    "**Tip**: Die Ausführung von einer ausgewählten Zelle geht auch mit dem Kürzel `Shift+Enter` (Also auf den Tasten `Alt` und `Enter` gleichzeitig drücken)\n"
   ]
  },
  {
   "cell_type": "markdown",
   "metadata": {},
   "source": [
    "## Install "
   ]
  },
  {
   "cell_type": "code",
   "execution_count": null,
   "metadata": {
    "tags": [
     "jpscore",
     "jpsreport"
    ]
   },
   "outputs": [],
   "source": [
    "%run 00_Install.ipynb"
   ]
  },
  {
   "cell_type": "markdown",
   "metadata": {},
   "source": [
    "## Simulation\n",
    "\n",
    "Mit den Dateien `ini_jpscore.xml` und `geometry.xml` können wir eine einfache Simulation wie folgt durchführen:"
   ]
  },
  {
   "cell_type": "code",
   "execution_count": null,
   "metadata": {},
   "outputs": [],
   "source": [
    "%%bash\n",
    "$HOME/usr/bin/jpscore ini_jpscore.xml"
   ]
  },
  {
   "cell_type": "code",
   "execution_count": null,
   "metadata": {},
   "outputs": [],
   "source": [
    "inifile = \"ini_jpscore.xml\"\n",
    "d = parse(inifile)\n",
    "Npeds = int(dict(d.getElementsByTagName('group')[0].attributes.items())['number'])\n",
    "print(\"Npeds:\", Npeds)"
   ]
  },
  {
   "cell_type": "markdown",
   "metadata": {},
   "source": [
    "# Visualisierung der Trajektorien\n",
    "\n",
    "*Warnung*: Die Visualisierung einer großen Trajektoriendatei kann einige Minuten dauern. Also, Geduld! \n",
    "\n",
    "Der Name der Geometrie- und Trajektorie-Dateien werden automatisch aus der Ini-Datei extrahiert. \n",
    "Darüber hinaus wird auch der Wert der Frames pro Sekunde (*fps*) aus der Ini-Datei extrahiert."
   ]
  },
  {
   "cell_type": "code",
   "execution_count": null,
   "metadata": {},
   "outputs": [],
   "source": [
    "%%time\n",
    "%run 02_vis.ipynb\n",
    "HTML(ani.to_html5_video())"
   ]
  },
  {
   "cell_type": "markdown",
   "metadata": {},
   "source": [
    "----"
   ]
  },
  {
   "cell_type": "markdown",
   "metadata": {},
   "source": [
    "## N(t)-Kurve zeichnen\n",
    "\n",
    "In dem Ordner `results` wird eine Flow-Datei erzeugt, die zwei Spalten enthält:\n",
    "\n",
    "Abhängig von der Trajektoriennamen könnte diese Datei so heissen `flow_exit_id_0_trajectories.txt`.\n",
    "\n",
    "**Achtung:**\n",
    "Wenn die Trajektoriendatei in der `ini_jpscore.xml` geändert wird, muss der Wert der Variable `Nt_file` (siehe Zelle unten) dementsprechend **angepasst** werden.\n",
    "\n",
    "Zum Beispiel: \n",
    "\n",
    "| Trajektorienname  |  Flow-Datei |\n",
    "| ------------- |:-------------:|\n",
    "| trajectories50.txt | flow_exit_id_0_trajectories50.txt|\n",
    "| trajectories100.txt | flow_exit_id_0_trajectories100.txt|\n",
    "| trajectories150.txt | flow_exit_id_0_trajectories150.txt|\n",
    "\n"
   ]
  },
  {
   "cell_type": "code",
   "execution_count": null,
   "metadata": {},
   "outputs": [],
   "source": [
    "%run libs/imports\n",
    "%matplotlib inline\n",
    "import glob\n",
    "files = glob.glob(\"results/flow*.txt\")\n",
    "\n",
    "for f in files:\n",
    "    print()\n",
    "    data = np.loadtxt(f)\n",
    "    plt.plot(data[:, 1],data[:,0],label=f.split(\"_\")[-1].split(\"trajectories.txt\")[0])\n",
    "    \n",
    "plt.ylabel(\"$t$\", size=18)\n",
    "plt.xlabel(\"$N$\", size=18)\n",
    "plt.grid()\n",
    "plt.legend()"
   ]
  },
  {
   "cell_type": "markdown",
   "metadata": {},
   "source": [
    "## jpsreport\n"
   ]
  },
  {
   "cell_type": "code",
   "execution_count": null,
   "metadata": {},
   "outputs": [],
   "source": [
    "%%bash\n",
    "$HOME/usr/bin/jpsreport ini_jpsreport.xml"
   ]
  },
  {
   "cell_type": "code",
   "execution_count": null,
   "metadata": {},
   "outputs": [],
   "source": [
    "Nt_file=\"Output/Fundamental_Diagram/FlowVelocity/Flow_NT_%strajectories.txt_id_2.dat\"%Npeds\n",
    "if not os.path.exists(Nt_file):\n",
    "    print(\"File {} does not exist\".format(Nt_file))\n",
    "else:\n",
    "    data = np.loadtxt(Nt_file)\n",
    "    plt.plot(data[:, 1],data[:,0])\n",
    "    plt.ylabel(\"$t$\", size=18)\n",
    "    plt.xlabel(\"$N$\", size=18)\n",
    "    plt.grid()"
   ]
  },
  {
   "cell_type": "code",
   "execution_count": null,
   "metadata": {},
   "outputs": [],
   "source": [
    "files = glob.glob(\"Output/Fundamental_Diagram/FlowVelocity/Flow_NT_*trajectories.txt_id_2.dat\")\n",
    "for f in files:\n",
    "    data = np.loadtxt(f)\n",
    "    plt.plot(data[:, 1],data[:,0], label=f.split(\"trajectories.txt\")[0].split(\"_\")[-1])\n",
    "    \n",
    "plt.ylabel(\"$t$\", size=18)\n",
    "plt.xlabel(\"$N$\", size=18)\n",
    "plt.legend()\n",
    "plt.grid()"
   ]
  },
  {
   "cell_type": "markdown",
   "metadata": {},
   "source": [
    "## Aufräumen\n",
    "\n",
    "Dieser Schritt ist **optional**. \n",
    "\n",
    "Um den Simulationsordners `results` zu löschen, entfernen Sie von der Zelle unten das Zeichen `#` und führen Sie anschliessend die Zelle mit `Alt+Enter` "
   ]
  },
  {
   "cell_type": "code",
   "execution_count": null,
   "metadata": {},
   "outputs": [],
   "source": [
    "%%bash\n",
    "#rm -r results "
   ]
  }
 ],
 "metadata": {
  "kernelspec": {
   "display_name": "Python 3",
   "language": "python",
   "name": "python3"
  },
  "language_info": {
   "codemirror_mode": {
    "name": "ipython",
    "version": 3
   },
   "file_extension": ".py",
   "mimetype": "text/x-python",
   "name": "python",
   "nbconvert_exporter": "python",
   "pygments_lexer": "ipython3",
   "version": "3.6.9"
  }
 },
 "nbformat": 4,
 "nbformat_minor": 4
}
