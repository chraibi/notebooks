{
 "cells": [
  {
   "cell_type": "markdown",
   "metadata": {},
   "source": [
    "## JuPedSim\n",
    "\n",
    "In diesem Tutorial wird eine Simulation mit `jpscore` in einem einfachen Setup durchgeführt. \n",
    "\n",
    "Eine Dokumentation der verwendeten Dateien ist unter:\n",
    "\n",
    "- Die Trajektorie-Datei (txt oder xml) (siehe [Dokumentation](http://www.jupedsim.org/jpscore/jpscore_trajectory.html))\n",
    "- Die Geometriedatei (siehe [Dokumentation](http://www.jupedsim.org/jpscore/jpscore_geometry.html)) \n",
    "- Die Projektdatei von jpscore, genannt inifile (siehe [Dokumentation](http://www.jupedsim.org/jpscore/jpscore_inifile.html))\n",
    "\n",
    "\n",
    "## Wie benutze ich ein Jupyter-Notebook\n",
    "\n",
    "Dieser `Jupyter-Notebook` besteht aus verschiedennen Zellen (Cells). \n",
    "\n",
    "Sie können alle Zellen ausführen indem Sie in dem Menü `Run --> Run All Cells` auswählen.\n",
    "\n",
    "Alternative, können Sie einzelne Zellen ausführen, indem Sie auf die entsprechende Zelle klicken und `Run --> Run Selected Cells` auswählen. \n",
    "\n",
    "**Tip**: Die Ausführung von einer ausgewählten Zelle geht auch mit dem Kürzel `Shift+Enter` (Also auf den Tasten `Alt` und `Enter` gleichzeitig drücken)\n"
   ]
  },
  {
   "cell_type": "markdown",
   "metadata": {},
   "source": [
    "## Load config files\n",
    "\n",
    "the used inifiles as defined by the user in config.ipynb are loaded"
   ]
  },
  {
   "cell_type": "code",
   "execution_count": null,
   "metadata": {},
   "outputs": [],
   "source": [
    "%run config.ipynb\n",
    "%store -r jpscore_inifile\n",
    "%store -r jpscore_exe\n",
    "jpscore_ini_dir = os.path.dirname(jpscore_inifile)\n",
    "%store jpscore_ini_dir"
   ]
  },
  {
   "cell_type": "markdown",
   "metadata": {},
   "source": [
    "## Simulation\n",
    "\n",
    "Mit den Dateien `ini_jpscore.xml` und `geometry.xml` können wir eine einfache Simulation wie folgt durchführen:"
   ]
  },
  {
   "cell_type": "code",
   "execution_count": null,
   "metadata": {},
   "outputs": [],
   "source": [
    "%%bash -s \"$jpscore_exe\" \"$jpscore_inifile\" \"$jpscore_ini_dir\" \n",
    "$1 $2 >log\n",
    "head -5 log && printf \".\\n.\\n.\\n\" && tail -n 4 log\n",
    "rm -rf $3/results && mv results $3 && mv log $3"
   ]
  },
  {
   "cell_type": "markdown",
   "metadata": {},
   "source": [
    "## Visualisierung der Trajektorien\n",
    "\n",
    "*Warnung*: Die Visualisierung einer großen Trajektoriendatei kann einige Minuten dauern. Also, Geduld! \n",
    "\n",
    "Der Name der Geometrie- und Trajektorie-Dateien werden automatisch aus der Ini-Datei extrahiert. \n",
    "Darüber hinaus wird auch der Wert der Frames pro Sekunde (*fps*) aus der Ini-Datei extrahiert."
   ]
  },
  {
   "cell_type": "code",
   "execution_count": null,
   "metadata": {},
   "outputs": [],
   "source": [
    "%%time\n",
    "%run 02_vis.ipynb\n",
    "HTML(ani.to_html5_video())"
   ]
  },
  {
   "cell_type": "markdown",
   "metadata": {},
   "source": [
    "----"
   ]
  },
  {
   "cell_type": "markdown",
   "metadata": {},
   "source": [
    "## N(t)-Kurve zeichnen\n",
    "\n",
    "In dem Ordner `results` wird eine Flow-Datei erzeugt, die zwei Spalten enthält:\n",
    "\n",
    "Abhängig von der Trajektoriennamen könnte diese Datei so heissen `flow_exit_id_0_trajectories.txt`.\n",
    "\n",
    "**Achtung:**\n",
    "Wenn die Trajektoriendatei in der `ini_jpscore.xml` geändert wird, muss der Wert der Variable `Nt_file` (siehe Zelle unten) dementsprechend **angepasst** werden.\n",
    "\n",
    "Zum Beispiel: \n",
    "\n",
    "| Trajektorienname  |  Flow-Datei |\n",
    "| ------------- |:-------------:|\n",
    "| trajectories50.txt | flow_exit_id_0_trajectories50.txt|\n",
    "| trajectories100.txt | flow_exit_id_0_trajectories100.txt|\n",
    "| trajectories150.txt | flow_exit_id_0_trajectories150.txt|\n",
    "\n"
   ]
  },
  {
   "cell_type": "code",
   "execution_count": null,
   "metadata": {},
   "outputs": [],
   "source": [
    "%run plot.ipynb\n",
    "interact(plot_flow_at_door,door_id=IntSlider(min=min(ids), max=max(ids), step=1, value=len(ids)));"
   ]
  }
 ],
 "metadata": {
  "kernelspec": {
   "display_name": "Python 3",
   "language": "python",
   "name": "python3"
  },
  "language_info": {
   "codemirror_mode": {
    "name": "ipython",
    "version": 3
   },
   "file_extension": ".py",
   "mimetype": "text/x-python",
   "name": "python",
   "nbconvert_exporter": "python",
   "pygments_lexer": "ipython3",
   "version": "3.7.7"
  }
 },
 "nbformat": 4,
 "nbformat_minor": 4
}
