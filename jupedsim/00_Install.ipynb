{
 "cells": [
  {
   "cell_type": "markdown",
   "metadata": {},
   "source": [
    "## Installation\n",
    "\n",
    "hier `jpscore` und `jpsreport` werden installiert (falls noch nicht geschehen).\n",
    "\n",
    "dieser Schritt wird **einmal** ausgeführt, um `jpscore` und `jpsreport` in das Heimatverzeichnis zu installieren."
   ]
  },
  {
   "cell_type": "code",
   "execution_count": null,
   "metadata": {},
   "outputs": [],
   "source": [
    "%%bash \n",
    "DEB_FILE=\"JPScore-0.1.1-Linux.deb\"\n",
    "jpsreport=$HOME/usr/bin/jpsreport\n",
    "jpscore=$HOME/usr/bin/jpscore\n",
    "rm -f ${DEB_FILE}\n",
    "if [ -f  ${jpsreport} ] && [ -f  ${jpsreport} ];then\n",
    "    echo \"jpscore and jpsreport exist. Nothing to install.\"\n",
    "else\n",
    "  if [ -f /etc/lsb-release ]; then\n",
    "      echo \"jpscore and/or jpsreport are not found. Installing...\"\n",
    "      wget https://www.dropbox.com/s/zrua8aqc1np43vt/${DEB_FILE}\n",
    "      echo \"install...\"  \n",
    "      dpkg -x ${DEB_FILE} $HOME\n",
    "      rm ${DEB_FILE}\n",
    "  else     \n",
    "     echo \"Did not recognize the distribution (should be Ubuntu or Debian)\"\n",
    "  fi\n",
    "fi"
   ]
  },
  {
   "cell_type": "code",
   "execution_count": 3,
   "metadata": {},
   "outputs": [],
   "source": [
    "libs_path = 'libs'\n",
    "if libs_path not in sys.path:\n",
    "    sys.path.append(libs_path)\n",
    "\n",
    "%run libs/imports\n",
    "%matplotlib inline"
   ]
  },
  {
   "cell_type": "code",
   "execution_count": 1,
   "metadata": {},
   "outputs": [
    {
     "data": {
      "text/plain": [
       "'/home/mchraibi/jupedsim'"
      ]
     },
     "execution_count": 1,
     "metadata": {},
     "output_type": "execute_result"
    }
   ],
   "source": [
    "%pwd"
   ]
  },
  {
   "cell_type": "code",
   "execution_count": null,
   "metadata": {},
   "outputs": [],
   "source": []
  }
 ],
 "metadata": {
  "kernelspec": {
   "display_name": "Python 3",
   "language": "python",
   "name": "python3"
  },
  "language_info": {
   "codemirror_mode": {
    "name": "ipython",
    "version": 3
   },
   "file_extension": ".py",
   "mimetype": "text/x-python",
   "name": "python",
   "nbconvert_exporter": "python",
   "pygments_lexer": "ipython3",
   "version": "3.6.9"
  }
 },
 "nbformat": 4,
 "nbformat_minor": 4
}
