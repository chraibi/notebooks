{
 "cells": [
  {
   "cell_type": "markdown",
   "metadata": {},
   "source": [
    "## JuPedSim\n",
    "\n",
    "In diesem Tutorial wird eine Simulation mit `jpscore` in einem einfachen Setup durchgeführt. \n",
    "\n",
    "Eine Dokumentation der verwendeten Dateien ist unter:\n",
    "\n",
    "- Die Trajektorie-Datei (txt oder xml) (siehe [Dokumentation](http://www.jupedsim.org/jpscore/jpscore_trajectory.html))\n",
    "- Die Geometriedatei (siehe [Dokumentation](http://www.jupedsim.org/jpscore/jpscore_geometry.html)) \n",
    "- Die Projektdatei von jpscore, genannt inifile (siehe [Dokumentation](http://www.jupedsim.org/jpscore/jpscore_inifile.html))\n",
    "\n",
    "\n",
    "## Wie benutze ich ein Jupyter-Notebook\n",
    "\n",
    "Dieser `Jupyter-Notebook` besteht aus verschiedennen Zellen (Cells). \n",
    "\n",
    "Sie können alle Zellen ausführen indem Sie in dem Menü `Run --> Run All Cells` auswählen.\n",
    "\n",
    "Alternative, können Sie einzelne Zellen ausführen, indem Sie auf die entsprechende Zelle klicken und `Run --> Run Selected Cells` auswählen. \n",
    "\n",
    "**Tip**: Die Ausführung von einer ausgewählten Zelle geht auch mit dem Kürzel `Shift+Enter` (Also auf den Tasten `Alt` und `Enter` gleichzeitig drücken)\n"
   ]
  },
  {
   "cell_type": "markdown",
   "metadata": {},
   "source": [
    "## Install "
   ]
  },
  {
   "cell_type": "code",
   "execution_count": null,
   "metadata": {
    "tags": [
     "jpscore",
     "jpsreport"
    ]
   },
   "outputs": [],
   "source": [
    "%run 00_Install.ipynb\n",
    "%run config.ipynb"
   ]
  },
  {
   "cell_type": "markdown",
   "metadata": {},
   "source": [
    "## Load config files\n",
    "\n",
    "the used inifiles as defined by the user in config.ipynb are loaded"
   ]
  },
  {
   "cell_type": "code",
   "execution_count": null,
   "metadata": {},
   "outputs": [],
   "source": [
    "%store -r jpscore_inifile\n",
    "%store -r jpsreport_inifile\n",
    "%store -r jpscore_exe\n",
    "%store -r jpsreport_exe\n",
    "\n",
    "jpscore_ini_dir = os.path.dirname(jpscore_inifile)\n",
    "jpsreport_ini_dir = os.path.dirname(jpsreport_inifile)"
   ]
  },
  {
   "cell_type": "code",
   "execution_count": null,
   "metadata": {},
   "outputs": [],
   "source": [
    "jpscore_exe"
   ]
  },
  {
   "cell_type": "markdown",
   "metadata": {},
   "source": [
    "## Simulation\n",
    "\n",
    "Mit den Dateien `ini_jpscore.xml` und `geometry.xml` können wir eine einfache Simulation wie folgt durchführen:"
   ]
  },
  {
   "cell_type": "code",
   "execution_count": null,
   "metadata": {},
   "outputs": [],
   "source": [
    "%%bash -s \"$jpscore_exe\" \"$jpscore_inifile\" \"$jpscore_ini_dir\" \n",
    "$1 $2 >log\n",
    "head -5 log && printf \".\\n.\\n.\\n\" && tail -n 4 log\n",
    "rm -rf $3/results && mv results $3 && mv log $3"
   ]
  },
  {
   "cell_type": "code",
   "execution_count": null,
   "metadata": {},
   "outputs": [],
   "source": [
    "d = parse(jpscore_inifile)\n",
    "Npeds = int(dict(d.getElementsByTagName('group')[0].attributes.items())['number'])\n",
    "print(\"Npeds:\", Npeds)"
   ]
  },
  {
   "cell_type": "markdown",
   "metadata": {},
   "source": [
    "# Visualisierung der Trajektorien\n",
    "\n",
    "*Warnung*: Die Visualisierung einer großen Trajektoriendatei kann einige Minuten dauern. Also, Geduld! \n",
    "\n",
    "Der Name der Geometrie- und Trajektorie-Dateien werden automatisch aus der Ini-Datei extrahiert. \n",
    "Darüber hinaus wird auch der Wert der Frames pro Sekunde (*fps*) aus der Ini-Datei extrahiert."
   ]
  },
  {
   "cell_type": "code",
   "execution_count": null,
   "metadata": {},
   "outputs": [],
   "source": [
    "%%time\n",
    "%run 02_vis.ipynb\n",
    "HTML(ani.to_html5_video())"
   ]
  },
  {
   "cell_type": "markdown",
   "metadata": {},
   "source": [
    "----"
   ]
  },
  {
   "cell_type": "markdown",
   "metadata": {},
   "source": [
    "## N(t)-Kurve zeichnen\n",
    "\n",
    "In dem Ordner `results` wird eine Flow-Datei erzeugt, die zwei Spalten enthält:\n",
    "\n",
    "Abhängig von der Trajektoriennamen könnte diese Datei so heissen `flow_exit_id_0_trajectories.txt`.\n",
    "\n",
    "**Achtung:**\n",
    "Wenn die Trajektoriendatei in der `ini_jpscore.xml` geändert wird, muss der Wert der Variable `Nt_file` (siehe Zelle unten) dementsprechend **angepasst** werden.\n",
    "\n",
    "Zum Beispiel: \n",
    "\n",
    "| Trajektorienname  |  Flow-Datei |\n",
    "| ------------- |:-------------:|\n",
    "| trajectories50.txt | flow_exit_id_0_trajectories50.txt|\n",
    "| trajectories100.txt | flow_exit_id_0_trajectories100.txt|\n",
    "| trajectories150.txt | flow_exit_id_0_trajectories150.txt|\n",
    "\n"
   ]
  },
  {
   "cell_type": "code",
   "execution_count": null,
   "metadata": {},
   "outputs": [],
   "source": [
    "txt_flow = os.path.join(jpscore_ini_dir, \"results\", \"flow*.txt\")\n",
    "files = glob.glob(txt_flow)\n",
    "for f in files:\n",
    "    data = np.loadtxt(f)\n",
    "    plt.plot(data[:, 1],data[:,0])\n",
    "    \n",
    "plt.ylabel(\"$t$\", size=18)\n",
    "plt.xlabel(\"$N$\", size=18)\n",
    "plt.grid()"
   ]
  },
  {
   "cell_type": "markdown",
   "metadata": {},
   "source": [
    "## jpsreport - Methode A\n",
    "\n",
    "Berechne eine N(t)-Kurve mit der Methode A. Siehe [Documentation](http://www.jupedsim.org/jpsreport_method_A.html)."
   ]
  },
  {
   "cell_type": "code",
   "execution_count": null,
   "metadata": {},
   "outputs": [],
   "source": [
    "d = parse(jpsreport_inifile)\n",
    "output_dir =  d.getElementsByTagName('output')[0].attributes.items()[0][1]\n",
    "flow_nt_dir = os.path.join(jpscore_ini_dir, output_dir, \"Fundamental_Diagram\", \"FlowVelocity\", \"Flow_NT_*trajectories.txt_id_2.dat\")\n",
    "output_dir\n",
    "flow_nt_dir"
   ]
  },
  {
   "cell_type": "code",
   "execution_count": null,
   "metadata": {},
   "outputs": [],
   "source": [
    "%%bash -s \"$jpsreport_exe\" \"$jpsreport_inifile\"\n",
    "$1 $2"
   ]
  },
  {
   "cell_type": "code",
   "execution_count": null,
   "metadata": {},
   "outputs": [],
   "source": [
    "d = parse(jpsreport_inifile)\n",
    "files = glob.glob(flow_nt_dir)\n",
    "for f in files:\n",
    "    data = np.loadtxt(f)\n",
    "    plt.plot(data[:, 1], data[:,0])\n",
    "    \n",
    "plt.ylabel(\"$t$\", size=18)\n",
    "plt.xlabel(\"$N$\", size=18)\n",
    "plt.grid(alpha=0.7)"
   ]
  },
  {
   "cell_type": "markdown",
   "metadata": {},
   "source": [
    "## Aufräumen\n",
    "\n",
    "Dieser Schritt ist **optional**. \n",
    "\n",
    "Um den Simulationsordners `results` zu löschen, entfernen Sie von der Zelle unten das Zeichen `#` und führen Sie anschliessend die Zelle mit `Alt+Enter` "
   ]
  },
  {
   "cell_type": "code",
   "execution_count": null,
   "metadata": {},
   "outputs": [],
   "source": [
    "from ipywidgets import interact, interactive, fixed, interact_manual\n",
    "from ipywidgets import IntSlider\n",
    "\n",
    "def f(m, b):\n",
    "    plt.figure(2)\n",
    "    x = np.linspace(-10, 10, num=1000)\n",
    "    plt.plot(x, m * x + b)\n",
    "    plt.ylim(-5, 5)\n",
    "    plt.show()\n",
    "\n",
    "#interactive_plot = interactive(f, m=(-2.0, 2.0), b=(-3, 3, 0.5))\n",
    "files = [\"Output/Fundamental_Diagram/FlowVelocity/Flow_NT_150trajectories.txt_id_2.dat\",\n",
    "         \"Output/Fundamental_Diagram/FlowVelocity/Flow_NT_150trajectories.txt_id_2.dat\"]\n",
    "colors=[\"red\", \"green\"]\n",
    "def  slow_function(i):\n",
    "    f = files[int(i)]\n",
    "    data = np.loadtxt(f)\n",
    "    plt.plot(data[:, 1],data[:,0], color=colors[i])\n",
    "    plt.show()\n",
    "    \n",
    "interact(slow_function,i=[0, 1]);\n",
    "\n"
   ]
  },
  {
   "cell_type": "code",
   "execution_count": null,
   "metadata": {},
   "outputs": [],
   "source": [
    "%pwd\n"
   ]
  },
  {
   "cell_type": "code",
   "execution_count": null,
   "metadata": {},
   "outputs": [],
   "source": [
    "%pwd"
   ]
  },
  {
   "cell_type": "code",
   "execution_count": null,
   "metadata": {},
   "outputs": [],
   "source": [
    "%%bash\n",
    "pwd"
   ]
  },
  {
   "cell_type": "code",
   "execution_count": null,
   "metadata": {},
   "outputs": [],
   "source": [
    "%pwd"
   ]
  },
  {
   "cell_type": "code",
   "execution_count": null,
   "metadata": {},
   "outputs": [],
   "source": []
  }
 ],
 "metadata": {
  "kernelspec": {
   "display_name": "Python 3",
   "language": "python",
   "name": "python3"
  },
  "language_info": {
   "codemirror_mode": {
    "name": "ipython",
    "version": 3
   },
   "file_extension": ".py",
   "mimetype": "text/x-python",
   "name": "python",
   "nbconvert_exporter": "python",
   "pygments_lexer": "ipython3",
   "version": "3.7.7"
  }
 },
 "nbformat": 4,
 "nbformat_minor": 4
}
