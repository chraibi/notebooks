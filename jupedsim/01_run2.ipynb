{
 "cells": [
  {
   "cell_type": "markdown",
   "metadata": {},
   "source": [
    "# Getting started with JuPedSim\n",
    "\n",
    "\n",
    "In this tutorial a simulation with `jpscore` is performed in a simple setup. Moreover, a basic analysis using a sample file will be performed with `jpsreport`.\n",
    "\n",
    "\n",
    "To get some documentation about the used files check:\n",
    "\n",
    "- A trajectory file (txt or xml) (see [documentation](http://www.jupedsim.org/jpscore/jpscore_trajectory.html))\n",
    "- A geometry file (see [documentation](http://www.jupedsim.org/jpscore/jpscore_geometry.html)) \n",
    "- jpscore's project file, called inifile (see [documentation](http://www.jupedsim.org/jpscore/jpscore_inifile.html))\n",
    "- jpsreport's project file, called inifile (see [documentation](http://www.jupedsim.org/jpscore/jpsreport_inifile.html))\n",
    "\n",
    "\n",
    "In case something does not work, which may happen of course, please open an issue.\n",
    "\n",
    "Use for this purpose our [issue-tracker](http://github/jupedsim/jpscore/issues). \n"
   ]
  },
  {
   "cell_type": "markdown",
   "metadata": {},
   "source": [
    "## Simulation\n",
    "\n",
    "with the files `ini_jpscore.xml` and `geometry.xml` we can run a simple simulation as follows:"
   ]
  },
  {
   "cell_type": "code",
   "execution_count": 2,
   "metadata": {},
   "outputs": [
    {
     "name": "stdout",
     "output_type": "stream",
     "text": [
      "Actual directory:  /home/mchraibi\n",
      "[2020-05-06 14:02:26.670] [info] Starting JuPedSim - JPScore\n",
      "[2020-05-06 14:02:26.670] [info] Version 0.8.4\n",
      "[2020-05-06 14:02:26.670] [info] Commit id v0.8.4-958-g263687e2\n",
      "[2020-05-06 14:02:26.670] [info] Commit date Tue Apr 28 11:25:58 2020\n",
      "[2020-05-06 14:02:26.670] [info] Build from branch master\n",
      "[2020-05-06 14:02:26.670] [info] Build with g++(9.3.0)\n",
      "[2020-05-06 14:02:26.670] [info] Loading and parsing the project file <ini_jpscore.xml>\n",
      "[2020-05-06 14:02:26.671] [info] Random seed <12542>\n",
      "[2020-05-06 14:02:26.671] [info] Maximal simulation time <200.00> seconds\n",
      "[2020-05-06 14:02:26.671] [info] Geometry file <geometry.xml>\n",
      "[2020-05-06 14:02:26.671] [info] Using 1 OpenMP threads, 1 available.\n",
      "[2020-05-06 14:02:26.671] [info] Show statistics: true\n",
      "[2020-05-06 14:02:26.671] [info] Output Path configured </home/mchraibi/results>\n",
      "[2020-05-06 14:02:26.671] [info] Output file  </home/mchraibi/results/100trajectories.txt>\n",
      "[2020-05-06 14:02:26.671] [info] In format <plain> at <8> frames per seconds\n",
      "[2020-05-06 14:02:26.671] [info] Could not find any JPSfire information\n",
      "[2020-05-06 14:02:26.672] [info] Could not find any JPSfire information\n",
      "[2020-05-06 14:02:26.672] [info] Using Tordeux2015 model\n",
      "[2020-05-06 14:02:26.672] [info] Parsing the model parameters\n",
      "[2020-05-06 14:02:26.672] [warning] Decreased stepsize from <0.01> to <0.00961538> to match fps\n",
      "[2020-05-06 14:02:26.672] [info] Stepsize <0.00961538>\n",
      "[2020-05-06 14:02:26.672] [warning] Changing Exit Strategie to work with floorfield!\n",
      "[2020-05-06 14:02:26.672] [info] exit_crossing_strategy <8>\n",
      "[2020-05-06 14:02:26.672] [info] Could not parse waiting_strategy, no waiting_strategy is used.\n",
      "[2020-05-06 14:02:26.672] [info] Linked cells enabled with size  <2.20>\n",
      "[2020-05-06 14:02:26.672] [info] Frep_ped a=8.00, D=0.10\n",
      "[2020-05-06 14:02:26.672] [info] Frep_wall a=5.00, D=0.02\n",
      "[2020-05-06 14:02:26.672] [info] Parsing agents  parameters\n",
      "[2020-05-06 14:02:26.672] [info] Parsing the group parameter id [1]\n",
      "[2020-05-06 14:02:26.672] [info] Desired speed mu=1.0 , sigma=0.00100000\n",
      "[2020-05-06 14:02:26.672] [info] Bmax mu=0.15 , sigma=0.0\n",
      "[2020-05-06 14:02:26.672] [info] Bmin mu=0.15 , sigma=0.0\n",
      "[2020-05-06 14:02:26.672] [info] Amin mu=0.15 , sigma=0.0\n",
      "[2020-05-06 14:02:26.672] [info] Tau mu=0.5 , sigma=0.00100000\n",
      "[2020-05-06 14:02:26.672] [info] Atau mu=0.0 , sigma=0.0\n",
      "[2020-05-06 14:02:26.672] [info] T mu=1.0 , sigma=0.00100000\n",
      "[2020-05-06 14:02:26.672] [info] Using FF Global Shortest Router\n",
      "[2020-05-06 14:02:26.672] [info] No event file given.\n",
      "[2020-05-06 14:02:26.672] [info] No schedule file given.\n",
      "[2020-05-06 14:02:26.672] [info] No train type file given.\n",
      "[2020-05-06 14:02:26.672] [info] No train type file given.\n",
      "[2020-05-06 14:02:26.672] [info] Parsing the project file completed\n",
      "[2020-05-06 14:02:26.673] [info] Loading and parsing the persons attributes\n",
      "[2020-05-06 14:02:26.673] [info] Risk tolerance mu = 0.0, risk tolerance sigma = 1.0\n",
      "[2020-05-06 14:02:26.673] [info] Done loading pedestrian distribution.\n",
      "[2020-05-06 14:02:26.673] [info] LoadGeometry: file: /home/mchraibi/geometry.xml\n",
      "[2020-05-06 14:02:26.674] [info] Not parsing transition from file\n",
      "[2020-05-06 14:02:26.674] [info] Got 1 transitions\n",
      "[2020-05-06 14:02:26.674] [info] Loading building file successful.\n",
      "[2020-05-06 14:02:26.674] [info] Goal file not parsed\n",
      "[2020-05-06 14:02:26.674] [info] Done with loading extra routing information\n",
      "[2020-05-06 14:02:26.674] [info] Loading the traffic info\n",
      "[2020-05-06 14:02:26.675] [info] No room info found in inifile\n",
      "[2020-05-06 14:02:26.675] [info] No traffic file found.\n",
      "[2020-05-06 14:02:26.675] [info] Done with loading traffic info file\n",
      "[2020-05-06 14:02:26.675] [info] Init Geometry\n",
      "[2020-05-06 14:02:26.675] [info] Starting geometry::helper::correct to fix the geometry ...\n",
      "[2020-05-06 14:02:26.675] [info] InitInsideGoals successful!!!\n",
      "[2020-05-06 14:02:26.675] [info] Init Geometry successful!!!\n",
      "[2020-05-06 14:02:26.675] [info] Init Distribute\n",
      "[2020-05-06 14:02:26.681] [info] Distributing 10 Agents in Room/Subrom 0/1! Maximum allowed: 416\n",
      "[2020-05-06 14:02:26.681] [info] Finished distributing pedestrians\n",
      "[2020-05-06 14:02:26.681] [info] Initializing the grid with cell size: 2.2.\n",
      "[2020-05-06 14:02:26.681] [info] Done with Initializing the grid\n",
      "[2020-05-06 14:02:26.690] [info] Adding distances in Room 0 to matrix.\n",
      "[2020-05-06 14:02:26.690] [info] ffRouter: FloydWarshall done!\n",
      "[2020-05-06 14:02:26.690] [info] FF Router init done.\n",
      "[2020-05-06 14:02:26.690] [info] Checking the geometry for artifacts: (Ignore Warnings, if ff_[...] router is used!)\n",
      "[2020-05-06 14:02:26.690] [info] ...Done.\n",
      "[2020-05-06 14:02:26.690] [info] Init Operational Model starting ...\n",
      "[2020-05-06 14:02:26.748] [info] Time to construct FF in DirectionLocalFloorfield: 0.06\n",
      "[2020-05-06 14:02:26.748] [info] Init Operational Model done.\n",
      "[2020-05-06 14:02:26.748] [info] Got 0 Train Types.\n",
      "[2020-05-06 14:02:26.748] [info] Got 0 Train Time Tables\n",
      "[2020-05-06 14:02:26.748] [info] Number of peds received: 10\n",
      "[2020-05-06 14:02:26.748] [info] Simulation started with 10 pedestrians\n",
      "[2020-05-06 14:02:26.749] [info] No ttt file found\n",
      "[2020-05-06 14:02:26.749] [info] No train types file found\n",
      "\n",
      "[2020-05-06 14:02:26.754] [info] time:   0.09 ( 200) | Agents:     10 / 10 [ 0.0%]\n",
      "[2020-05-06 14:02:26.759] [info] time:   0.18 ( 200) | Agents:     10 / 10 [ 0.0%]\n",
      "[2020-05-06 14:02:26.764] [info] time:   0.28 ( 200) | Agents:     10 / 10 [ 0.0%]\n",
      "[2020-05-06 14:02:26.770] [info] time:   0.38 ( 200) | Agents:     10 / 10 [ 0.0%]\n",
      "[2020-05-06 14:02:26.776] [info] time:   0.47 ( 200) | Agents:     10 / 10 [ 0.0%]\n",
      "[2020-05-06 14:02:26.782] [info] time:   0.57 ( 200) | Agents:     10 / 10 [ 0.0%]\n",
      "[2020-05-06 14:02:26.788] [info] time:   0.66 ( 200) | Agents:     10 / 10 [ 0.0%]\n",
      "[2020-05-06 14:02:26.794] [info] time:   0.76 ( 200) | Agents:     10 / 10 [ 0.0%]\n",
      "[2020-05-06 14:02:26.800] [info] time:   0.86 ( 200) | Agents:     10 / 10 [ 0.0%]\n",
      "[2020-05-06 14:02:26.863] [info] time:   1.91 ( 200) | Agents:     10 / 10 [ 0.0%]\n",
      "[2020-05-06 14:02:26.921] [info] time:   2.88 ( 200) | Agents:     10 / 10 [ 0.0%]\n",
      "[2020-05-06 14:02:26.971] [info] time:   3.84 ( 200) | Agents:     10 / 10 [ 0.0%]\n",
      "[2020-05-06 14:02:27.024] [info] time:   4.80 ( 200) | Agents:     10 / 10 [ 0.0%]\n",
      "[2020-05-06 14:02:27.072] [info] time:   5.76 ( 200) | Agents:      8 / 10 [20.0%]\n",
      "[2020-05-06 14:02:27.110] [info] time:   6.72 ( 200) | Agents:      7 / 10 [30.0%]\n",
      "[2020-05-06 14:02:27.145] [info] time:   7.68 ( 200) | Agents:      6 / 10 [40.0%]\n",
      "[2020-05-06 14:02:27.172] [info] time:   8.64 ( 200) | Agents:      5 / 10 [50.0%]\n",
      "[2020-05-06 14:02:27.193] [info] Update door statistics at t=9.60\n",
      "[2020-05-06 14:02:27.193] [info] Rooms Egress. Simulation Time: 9.60\n",
      "[2020-05-06 14:02:27.193] [info] id\tcaption\tegress time (s)\n",
      "[2020-05-06 14:02:27.193] [info] 0\tfloor\t0.00\n",
      "[2020-05-06 14:02:27.193] [info] Usage of Exits\n",
      "[2020-05-06 14:02:27.193] [info] Exit ID [0] used by [6] pedestrians. Last passing time [9.16] s\n",
      "[2020-05-06 14:02:27.193] [info] More Information in the file: /home/mchraibi/results/flow_exit_id_0_100trajectories.txt\n",
      "[2020-05-06 14:02:27.193] [info] Usage of Crossings\n",
      "[2020-05-06 14:02:27.193] [info] time:   9.61 ( 200) | Agents:      4 / 10 [60.0%]\n",
      "[2020-05-06 14:02:27.210] [info] time:  10.57 ( 200) | Agents:      3 / 10 [70.0%]\n",
      "[2020-05-06 14:02:27.221] [info] time:  11.53 ( 200) | Agents:      2 / 10 [80.0%]\n",
      "[2020-05-06 14:02:27.227] [info] time:  12.49 ( 200) | Agents:      1 / 10 [90.0%]\n",
      "[2020-05-06 14:02:27.228] [info] Simulation completed\n",
      "[2020-05-06 14:02:27.228] [info] Rooms Egress. Simulation Time: 12.69\n",
      "[2020-05-06 14:02:27.228] [info] id\tcaption\tegress time (s)\n",
      "[2020-05-06 14:02:27.228] [info] 0\tfloor\t0.00\n",
      "[2020-05-06 14:02:27.228] [info] Usage of Exits\n",
      "[2020-05-06 14:02:27.228] [info] Exit ID [0] used by [10] pedestrians. Last passing time [12.68] s\n",
      "[2020-05-06 14:02:27.228] [info] More Information in the file: /home/mchraibi/results/flow_exit_id_0_100trajectories.txt\n",
      "[2020-05-06 14:02:27.228] [info] Usage of Crossings\n",
      "[2020-05-06 14:02:27.228] [info] Exec Time 1.00s\n",
      "[2020-05-06 14:02:27.228] [info] Evac Time 12.69s\n",
      "[2020-05-06 14:02:27.228] [info] Realtime Factor 12.69x\n",
      "[2020-05-06 14:02:27.228] [info] Number of Threads 1\n"
     ]
    }
   ],
   "source": [
    "%%bash\n",
    "echo \"Actual directory:  $PWD\"\n",
    "$HOME/usr/bin/jpscore ini_jpscore.xml\n"
   ]
  },
  {
   "cell_type": "markdown",
   "metadata": {},
   "source": [
    "## Analysis"
   ]
  },
  {
   "cell_type": "code",
   "execution_count": 1,
   "metadata": {},
   "outputs": [
    {
     "name": "stdout",
     "output_type": "stream",
     "text": [
      "----\n",
      "JuPedSim - JPSreport\n",
      "\n",
      "Current date   : Wed May 06 14:02:17 2020\n",
      "Version        : 0.8.4\n",
      "Compiler       : g++ (9.3.0)\n",
      "Commit hash    : v0.8.4-958-g263687e2\n",
      "Commit date    : Tue Apr 28 11:25:58 2020\n",
      "Branch         : master\n",
      "INFO: \tParsing the ini file <ini_jpsreport.xml>\n",
      "INFO:\tlogfile </home/mchraibi/log_jpsreport.txt>\n",
      "INFO:\tSuccess with Method A using measurement area id 2\n",
      "INFO: \tEnd Analysis for the file: 150trajectories.txt\n",
      "Time elapsed:\t 1.09926 [s]\n"
     ]
    }
   ],
   "source": [
    "%%bash\n",
    "\n",
    "$HOME/usr/bin/jpsreport ini_jpsreport.xml"
   ]
  },
  {
   "cell_type": "markdown",
   "metadata": {},
   "source": [
    "----"
   ]
  },
  {
   "cell_type": "markdown",
   "metadata": {},
   "source": [
    "The output of `JPSreport` gives some logging information on its running process.  It may inform on any errors during the compilation or misconception of the input files (inifile, geometry or trajectory file).\n",
    "\n",
    "In the inifile you can define a logfile to direct these messages.\n",
    "\n",
    "Uppon a succesful run, the directory **Output** is created with the following content (depends on the configuration in inifile):"
   ]
  },
  {
   "cell_type": "code",
   "execution_count": null,
   "metadata": {},
   "outputs": [],
   "source": [
    "libs_path = 'libs'\n",
    "if libs_path not in sys.path:\n",
    "    sys.path.append(libs_path)\n",
    "\n",
    "%run libs/imports\n",
    "%matplotlib inline"
   ]
  },
  {
   "cell_type": "markdown",
   "metadata": {},
   "source": [
    "## Plot jpsreport N(t)-Curve"
   ]
  },
  {
   "cell_type": "code",
   "execution_count": null,
   "metadata": {},
   "outputs": [],
   "source": [
    "Nt_file=\"Output/Fundamental_Diagram/FlowVelocity/Flow_NT_trajectories.txt_id_2.dat\"\n",
    "if not os.path.exists(Nt_file):\n",
    "    print(\"File {} does not exist\".format(Nt_file))\n",
    "else:\n",
    "    data = np.loadtxt(Nt_file)\n",
    "    plt.plot(data[:, 0],data[:,1])\n",
    "    plt.xlabel(\"$t$\", size=18)\n",
    "    plt.ylabel(\"$N$\", size=18)"
   ]
  },
  {
   "cell_type": "code",
   "execution_count": null,
   "metadata": {},
   "outputs": [],
   "source": [
    "Nt_file=\"results/flow_exit_id_0_trajectories.txt\"\n",
    "if not os.path.exists(Nt_file):\n",
    "    print(\"File {} does not exist\".format(Nt_file))\n",
    "else:\n",
    "    data = np.loadtxt(Nt_file)\n",
    "    plt.plot(data[:, 0],data[:,1])\n",
    "    plt.xlabel(\"$t$\", size=18)\n",
    "    plt.ylabel(\"$N$\", size=18)"
   ]
  },
  {
   "cell_type": "markdown",
   "metadata": {},
   "source": [
    "## Plot Voronoi Diagrams"
   ]
  },
  {
   "cell_type": "code",
   "execution_count": null,
   "metadata": {},
   "outputs": [],
   "source": [
    "filename = \"Output/Fundamental_Diagram/IndividualFD/IFD_D_trajectories.txt_id_1\"\n",
    "frame_min=10\n",
    "frame_max=20\n",
    "xmin = 0 \n",
    "xmax = 9\n",
    "ymin = 0\n",
    "ymax = 2\n",
    "fps = 8\n",
    "v_min = 0\n",
    "v_max = 1.5\n",
    "if not os.path.exists(filename):\n",
    "    print(\"File {} does not exist\".format(filename))\n",
    "else:\n",
    "    dataframe = read_IFD(filename)\n",
    "    IFD_plot_polygon_rho(dataframe,frame_min, frame_max, xmin, xmax, ymin,ymax, fps, v_min, v_max)"
   ]
  },
  {
   "cell_type": "code",
   "execution_count": null,
   "metadata": {},
   "outputs": [],
   "source": [
    "%%bash\n",
    "rm -r Output results "
   ]
  },
  {
   "cell_type": "code",
   "execution_count": null,
   "metadata": {},
   "outputs": [],
   "source": []
  }
 ],
 "metadata": {
  "kernelspec": {
   "display_name": "Python 3",
   "language": "python",
   "name": "python3"
  },
  "language_info": {
   "codemirror_mode": {
    "name": "ipython",
    "version": 3
   },
   "file_extension": ".py",
   "mimetype": "text/x-python",
   "name": "python",
   "nbconvert_exporter": "python",
   "pygments_lexer": "ipython3",
   "version": "3.6.9"
  }
 },
 "nbformat": 4,
 "nbformat_minor": 4
}
